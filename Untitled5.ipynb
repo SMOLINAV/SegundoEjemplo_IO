{
  "nbformat": 4,
  "nbformat_minor": 0,
  "metadata": {
    "colab": {
      "provenance": [],
      "authorship_tag": "ABX9TyNnvYehpHsl8wmiJ3g+xs5j",
      "include_colab_link": true
    },
    "kernelspec": {
      "name": "python3",
      "display_name": "Python 3"
    },
    "language_info": {
      "name": "python"
    }
  },
  "cells": [
    {
      "cell_type": "markdown",
      "metadata": {
        "id": "view-in-github",
        "colab_type": "text"
      },
      "source": [
        "<a href=\"https://colab.research.google.com/github/SMOLINAV/SegundoEjemplo_IO/blob/main/Untitled5.ipynb\" target=\"_parent\"><img src=\"https://colab.research.google.com/assets/colab-badge.svg\" alt=\"Open In Colab\"/></a>"
      ]
    },
    {
      "cell_type": "markdown",
      "source": [
        "#primer ejercicio \n",
        "\n"
      ],
      "metadata": {
        "id": "FRdEWu6b4jTi"
      }
    },
    {
      "cell_type": "code",
      "execution_count": 1,
      "metadata": {
        "colab": {
          "base_uri": "https://localhost:8080/"
        },
        "id": "NwhxQt6O4FbR",
        "outputId": "ede98b53-aa3b-4837-b112-cf5c71a954f4"
      },
      "outputs": [
        {
          "output_type": "stream",
          "name": "stdout",
          "text": [
            "Buenos dias mundo\n"
          ]
        }
      ],
      "source": [
        "print(\"Buenos dias mundo\")"
      ]
    },
    {
      "cell_type": "markdown",
      "source": [
        "#Segundo ejercicio"
      ],
      "metadata": {
        "id": "oSplu19U5lCp"
      }
    },
    {
      "cell_type": "code",
      "source": [
        "print(\"Buenos dias, Santiago\")"
      ],
      "metadata": {
        "colab": {
          "base_uri": "https://localhost:8080/"
        },
        "id": "JWm408Bi5qLR",
        "outputId": "8040fc13-3fa8-4649-f626-51d0d2734a5b"
      },
      "execution_count": 3,
      "outputs": [
        {
          "output_type": "stream",
          "name": "stdout",
          "text": [
            "Buenos dias, Santiago\n"
          ]
        }
      ]
    }
  ]
}